{
 "cells": [
  {
   "cell_type": "code",
   "execution_count": 1,
   "metadata": {},
   "outputs": [
    {
     "data": {
      "text/plain": [
       "6"
      ]
     },
     "execution_count": 1,
     "metadata": {},
     "output_type": "execute_result"
    }
   ],
   "source": [
    "import numpy as np\n",
    "\n",
    "\n",
    "def game_v3(number) -> int:\n",
    "    # number = np.random.randint(1, 101)  # компьютер загадывает число\n",
    "    # print(\"num:\", number)\n",
    "    num_min = 1\n",
    "    num_max = 101\n",
    "    # количество попыток\n",
    "    count = 1\n",
    "    predict_number = np.random.randint(1, 101) \n",
    "\n",
    "    while number != predict_number:\n",
    "       \n",
    "        if (num_max - num_min) < 2:\n",
    "            break \n",
    "        count += 1\n",
    "       \n",
    "\n",
    "        if predict_number > number:  # если число больше\n",
    "            num_max = predict_number\n",
    "            predict_number = round((num_min + num_max) / 2)\n",
    "        \n",
    "        else:\n",
    "            num_min = predict_number  # если число меньше\n",
    "            predict_number = round((num_min + num_max) / 2)\n",
    "   \n",
    "    return count\n",
    "\n",
    "def score_game(game_v3) -> int:\n",
    "\n",
    "    count_ls = []\n",
    "    np.random.seed(1)  # фиксируем сид для воспроизводимости\n",
    "    random_array = np.random.randint(1, 101, size=(10000))  # загадали список чисел\n",
    "   \n",
    "    for number in random_array:\n",
    "        count_ls.append(game_v3(number))\n",
    "        score = int(np.mean(count_ls))\n",
    "   \n",
    "    return score\n",
    "\n",
    "\n",
    "score_game(game_v3)"
   ]
  }
 ],
 "metadata": {
  "kernelspec": {
   "display_name": "Python 3",
   "language": "python",
   "name": "python3"
  },
  "language_info": {
   "codemirror_mode": {
    "name": "ipython",
    "version": 3
   },
   "file_extension": ".py",
   "mimetype": "text/x-python",
   "name": "python",
   "nbconvert_exporter": "python",
   "pygments_lexer": "ipython3",
   "version": "3.10.10"
  },
  "orig_nbformat": 4
 },
 "nbformat": 4,
 "nbformat_minor": 2
}
